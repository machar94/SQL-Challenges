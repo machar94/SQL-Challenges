{
 "cells": [
  {
   "cell_type": "markdown",
   "metadata": {},
   "source": [
    "# Overview\n",
    "\n",
    "This project looks at airfare data covering the top 1,000 contiguous state city-pair markets. The challenge and dataset can be found [here](https://discuss.codecademy.com/t/data-science-independent-project-5-analyze-airfare-data/419949/1)."
   ]
  },
  {
   "cell_type": "markdown",
   "metadata": {},
   "source": [
    "# Dataset\n",
    "\n",
    "To download the dataset for this project, uncomment and run the next cell. Note it requires `wget`."
   ]
  },
  {
   "cell_type": "code",
   "execution_count": 1,
   "metadata": {},
   "outputs": [
    {
     "name": "stdout",
     "output_type": "stream",
     "text": [
      "--2023-11-02 21:08:51--  https://static-assets.codecademy.com/community/datasets_forum_projects/airfare_data.csv\n",
      "Resolving static-assets.codecademy.com (static-assets.codecademy.com)... 2606:4700::6811:d451, 2606:4700::6812:c73f, 104.17.212.81, ...\n",
      "Connecting to static-assets.codecademy.com (static-assets.codecademy.com)|2606:4700::6811:d451|:443... connected.\n",
      "HTTP request sent, awaiting response... 200 OK\n",
      "Length: 18217054 (17M) [text/csv]\n",
      "Saving to: ‘airfare_data.csv’\n",
      "\n",
      "airfare_data.csv    100%[===================>]  17.37M  18.3MB/s    in 0.9s    \n",
      "\n",
      "2023-11-02 21:08:53 (18.3 MB/s) - ‘airfare_data.csv’ saved [18217054/18217054]\n",
      "\n"
     ]
    }
   ],
   "source": [
    "!wget -O airfare_data.csv https://static-assets.codecademy.com/community/datasets_forum_projects/airfare_data.csv"
   ]
  },
  {
   "cell_type": "code",
   "execution_count": 1,
   "metadata": {},
   "outputs": [
    {
     "data": {
      "text/html": [
       "<div>\n",
       "<style scoped>\n",
       "    .dataframe tbody tr th:only-of-type {\n",
       "        vertical-align: middle;\n",
       "    }\n",
       "\n",
       "    .dataframe tbody tr th {\n",
       "        vertical-align: top;\n",
       "    }\n",
       "\n",
       "    .dataframe thead th {\n",
       "        text-align: right;\n",
       "    }\n",
       "</style>\n",
       "<table border=\"1\" class=\"dataframe\">\n",
       "  <thead>\n",
       "    <tr style=\"text-align: right;\">\n",
       "      <th></th>\n",
       "      <th>Year</th>\n",
       "      <th>quarter</th>\n",
       "      <th>citymarketid_1</th>\n",
       "      <th>citymarketid_2</th>\n",
       "      <th>city1</th>\n",
       "      <th>city2</th>\n",
       "      <th>nsmiles</th>\n",
       "      <th>passengers</th>\n",
       "      <th>fare</th>\n",
       "      <th>carrier_lg</th>\n",
       "      <th>large_ms</th>\n",
       "      <th>fare_lg</th>\n",
       "      <th>carrier_low</th>\n",
       "      <th>lf_ms</th>\n",
       "      <th>fare_low</th>\n",
       "      <th>table_1_flag</th>\n",
       "      <th>Geocoded_City1</th>\n",
       "      <th>Geocoded_City2</th>\n",
       "    </tr>\n",
       "  </thead>\n",
       "  <tbody>\n",
       "    <tr>\n",
       "      <th>0</th>\n",
       "      <td>2009</td>\n",
       "      <td>2</td>\n",
       "      <td>32467</td>\n",
       "      <td>34576</td>\n",
       "      <td>Miami, FL (Metropolitan Area)</td>\n",
       "      <td>Rochester, NY</td>\n",
       "      <td>1204</td>\n",
       "      <td>203</td>\n",
       "      <td>151.46</td>\n",
       "      <td>FL</td>\n",
       "      <td>0.29</td>\n",
       "      <td>131.05</td>\n",
       "      <td>FL</td>\n",
       "      <td>0.29</td>\n",
       "      <td>131.05</td>\n",
       "      <td>1</td>\n",
       "      <td>Miami, FL (Metropolitan Area)\\n(44.977479, -93...</td>\n",
       "      <td>Rochester, NY\\n(43.155708, -77.612547)</td>\n",
       "    </tr>\n",
       "  </tbody>\n",
       "</table>\n",
       "</div>"
      ],
      "text/plain": [
       "   Year  quarter  citymarketid_1  citymarketid_2  \\\n",
       "0  2009        2           32467           34576   \n",
       "\n",
       "                           city1          city2  nsmiles  passengers    fare  \\\n",
       "0  Miami, FL (Metropolitan Area)  Rochester, NY     1204         203  151.46   \n",
       "\n",
       "  carrier_lg  large_ms  fare_lg carrier_low  lf_ms  fare_low  table_1_flag  \\\n",
       "0         FL      0.29   131.05          FL   0.29    131.05             1   \n",
       "\n",
       "                                      Geocoded_City1  \\\n",
       "0  Miami, FL (Metropolitan Area)\\n(44.977479, -93...   \n",
       "\n",
       "                           Geocoded_City2  \n",
       "0  Rochester, NY\\n(43.155708, -77.612547)  "
      ]
     },
     "execution_count": 1,
     "metadata": {},
     "output_type": "execute_result"
    }
   ],
   "source": [
    "import pandas as pd\n",
    "import sqlite3\n",
    "\n",
    "data = pd.read_csv('airfare_data.csv')\n",
    "data.head(1)"
   ]
  },
  {
   "cell_type": "code",
   "execution_count": 3,
   "metadata": {},
   "outputs": [
    {
     "data": {
      "text/plain": [
       "<sqlite3.Cursor at 0x7fec6faa88c0>"
      ]
     },
     "execution_count": 3,
     "metadata": {},
     "output_type": "execute_result"
    }
   ],
   "source": [
    "\n",
    "conn = sqlite3.connect(\"airfare.db\")\n",
    "cur = conn.cursor()\n",
    "\n",
    "cur.execute('''CREATE TABLE airfare (\n",
    "            year INT\n",
    "            quarter INT\n",
    "            citymarketid_1 INT\n",
    "            citymarketid_2 INT\n",
    "            city1 TEXT\n",
    "            city2 TEXT\n",
    "            nsmiles INT\n",
    "            passengers INT\n",
    "            fare REAL\n",
    "            carrier_lg TEXT\n",
    "            large_ms REAL\n",
    "            fare_lg REAL\n",
    "            carrier_low TEXT\n",
    "            lf_ms REAL\n",
    "            fare_low REAL\n",
    "            table_1_flag_INT\n",
    "            geocoded_city1 TEXT\n",
    "            geocoded_city2 TEXT)''')"
   ]
  },
  {
   "cell_type": "code",
   "execution_count": 4,
   "metadata": {},
   "outputs": [
    {
     "data": {
      "text/plain": [
       "90021"
      ]
     },
     "execution_count": 4,
     "metadata": {},
     "output_type": "execute_result"
    }
   ],
   "source": [
    "data.to_sql('airfare', conn, if_exists='replace', index=False)"
   ]
  },
  {
   "cell_type": "markdown",
   "metadata": {},
   "source": [
    "## Exploration"
   ]
  },
  {
   "cell_type": "code",
   "execution_count": 2,
   "metadata": {},
   "outputs": [],
   "source": [
    "# Load the sql module to iPython\n",
    "\n",
    "%load_ext sql"
   ]
  },
  {
   "cell_type": "code",
   "execution_count": 3,
   "metadata": {},
   "outputs": [],
   "source": [
    "%sql sqlite:///airfare.db"
   ]
  },
  {
   "cell_type": "markdown",
   "metadata": {},
   "source": [
    "1. What range of years are represented in the data?"
   ]
  },
  {
   "cell_type": "code",
   "execution_count": 28,
   "metadata": {},
   "outputs": [
    {
     "name": "stdout",
     "output_type": "stream",
     "text": [
      " * sqlite:///airfare.db\n",
      "Done.\n"
     ]
    },
    {
     "data": {
      "text/html": [
       "<table>\n",
       "    <thead>\n",
       "        <tr>\n",
       "            <th>MIN(year)</th>\n",
       "            <th>MAX(year)</th>\n",
       "            <th>Year Range</th>\n",
       "        </tr>\n",
       "    </thead>\n",
       "    <tbody>\n",
       "        <tr>\n",
       "            <td>1996</td>\n",
       "            <td>2018</td>\n",
       "            <td>22</td>\n",
       "        </tr>\n",
       "    </tbody>\n",
       "</table>"
      ],
      "text/plain": [
       "[(1996, 2018, 22)]"
      ]
     },
     "execution_count": 28,
     "metadata": {},
     "output_type": "execute_result"
    }
   ],
   "source": [
    "%%sql\n",
    "\n",
    "SELECT MIN(year), MAX(year), MAX(year) - Min(year) AS 'Year Range'\n",
    "FROM airfare"
   ]
  },
  {
   "cell_type": "markdown",
   "metadata": {},
   "source": [
    "2. What are the shortest and longest-distanced flights, and between which 2 cities are they? "
   ]
  },
  {
   "cell_type": "code",
   "execution_count": 29,
   "metadata": {},
   "outputs": [
    {
     "name": "stdout",
     "output_type": "stream",
     "text": [
      " * sqlite:///airfare.db\n",
      "Done.\n"
     ]
    },
    {
     "data": {
      "text/html": [
       "<table>\n",
       "    <thead>\n",
       "        <tr>\n",
       "            <th>Year</th>\n",
       "            <th>quarter</th>\n",
       "            <th>citymarketid_1</th>\n",
       "            <th>citymarketid_2</th>\n",
       "            <th>city1</th>\n",
       "            <th>city2</th>\n",
       "            <th>nsmiles</th>\n",
       "            <th>passengers</th>\n",
       "            <th>fare</th>\n",
       "            <th>carrier_lg</th>\n",
       "            <th>large_ms</th>\n",
       "            <th>fare_lg</th>\n",
       "            <th>carrier_low</th>\n",
       "            <th>lf_ms</th>\n",
       "            <th>fare_low</th>\n",
       "            <th>table_1_flag</th>\n",
       "            <th>Geocoded_City1</th>\n",
       "            <th>Geocoded_City2</th>\n",
       "        </tr>\n",
       "    </thead>\n",
       "    <tbody>\n",
       "        <tr>\n",
       "            <td>2001</td>\n",
       "            <td>1</td>\n",
       "            <td>32575</td>\n",
       "            <td>33570</td>\n",
       "            <td>Los Angeles, CA (Metropolitan Area)</td>\n",
       "            <td>San Diego, CA</td>\n",
       "            <td>109</td>\n",
       "            <td>210</td>\n",
       "            <td>126.88</td>\n",
       "            <td>AA</td>\n",
       "            <td>0.66</td>\n",
       "            <td>125.13</td>\n",
       "            <td>UA</td>\n",
       "            <td>0.3</td>\n",
       "            <td>122.98</td>\n",
       "            <td>1</td>\n",
       "            <td>Los Angeles, CA (Metropolitan Area)<br>(34.052238, -118.243344)</td>\n",
       "            <td>San Diego, CA<br>(32.71576, -117.163817)</td>\n",
       "        </tr>\n",
       "        <tr>\n",
       "            <td>2002</td>\n",
       "            <td>2</td>\n",
       "            <td>32467</td>\n",
       "            <td>30559</td>\n",
       "            <td>Miami, FL (Metropolitan Area)</td>\n",
       "            <td>Seattle, WA</td>\n",
       "            <td>2724</td>\n",
       "            <td>472</td>\n",
       "            <td>210.25</td>\n",
       "            <td>AA</td>\n",
       "            <td>0.25</td>\n",
       "            <td>221.65</td>\n",
       "            <td>CO</td>\n",
       "            <td>0.12</td>\n",
       "            <td>192.82</td>\n",
       "            <td>1</td>\n",
       "            <td>Miami, FL (Metropolitan Area)<br>(44.977479, -93.264346)</td>\n",
       "            <td>Seattle, WA<br>(47.603229, -122.33028)</td>\n",
       "        </tr>\n",
       "    </tbody>\n",
       "</table>"
      ],
      "text/plain": [
       "[(2001, 1, 32575, 33570, 'Los Angeles, CA (Metropolitan Area)', 'San Diego, CA', 109, 210, 126.88, 'AA', 0.66, 125.13, 'UA', 0.3, 122.98, 1, 'Los Angeles, CA (Metropolitan Area)\\n(34.052238, -118.243344)', 'San Diego, CA\\n(32.71576, -117.163817)'),\n",
       " (2002, 2, 32467, 30559, 'Miami, FL (Metropolitan Area)', 'Seattle, WA', 2724, 472, 210.25, 'AA', 0.25, 221.65, 'CO', 0.12, 192.82, 1, 'Miami, FL (Metropolitan Area)\\n(44.977479, -93.264346)', 'Seattle, WA\\n(47.603229, -122.33028)')]"
      ]
     },
     "execution_count": 29,
     "metadata": {},
     "output_type": "execute_result"
    }
   ],
   "source": [
    "%%sql\n",
    "\n",
    "WITH \n",
    "far AS (SELECT * FROM airfare WHERE nsmiles IN (SELECT MAX(nsmiles) FROM airfare) LIMIT 1),\n",
    "near AS (SELECT * FROM airfare WHERE nsmiles IN (SELECT MIN(nsmiles) FROM airfare) LIMIT 1)\n",
    "SELECT * FROM far\n",
    "UNION\n",
    "SELECT * FROM near"
   ]
  },
  {
   "cell_type": "markdown",
   "metadata": {},
   "source": [
    "1. How many distinct cities are represented in the data (regardless of whether it is the source or destination)?"
   ]
  },
  {
   "cell_type": "code",
   "execution_count": 30,
   "metadata": {},
   "outputs": [
    {
     "name": "stdout",
     "output_type": "stream",
     "text": [
      " * sqlite:///airfare.db\n",
      "Done.\n"
     ]
    },
    {
     "data": {
      "text/html": [
       "<table>\n",
       "    <thead>\n",
       "        <tr>\n",
       "            <th>COUNT(citymarketid_1)</th>\n",
       "        </tr>\n",
       "    </thead>\n",
       "    <tbody>\n",
       "        <tr>\n",
       "            <td>163</td>\n",
       "        </tr>\n",
       "    </tbody>\n",
       "</table>"
      ],
      "text/plain": [
       "[(163,)]"
      ]
     },
     "execution_count": 30,
     "metadata": {},
     "output_type": "execute_result"
    }
   ],
   "source": [
    "%%sql\n",
    "\n",
    "WITH cities AS (\n",
    "    SELECT citymarketid_1 FROM airfare\n",
    "    UNION    \n",
    "    SELECT citymarketid_2 FROM airfare\n",
    ")\n",
    "SELECT COUNT(citymarketid_1) FROM cities"
   ]
  },
  {
   "cell_type": "markdown",
   "metadata": {},
   "source": [
    "4. Which airline appear most frequently as the carrier with the lowest fare (ie. carrier_low)? How about the airline with the largest market share (ie. carrier_lg)?"
   ]
  },
  {
   "cell_type": "code",
   "execution_count": 42,
   "metadata": {},
   "outputs": [
    {
     "name": "stdout",
     "output_type": "stream",
     "text": [
      " * sqlite:///airfare.db\n",
      "Done.\n"
     ]
    },
    {
     "data": {
      "text/html": [
       "<table>\n",
       "    <thead>\n",
       "        <tr>\n",
       "            <th>carrier_low</th>\n",
       "            <th>COUNT(carrier_low)</th>\n",
       "        </tr>\n",
       "    </thead>\n",
       "    <tbody>\n",
       "        <tr>\n",
       "            <td>E9</td>\n",
       "            <td>1</td>\n",
       "        </tr>\n",
       "        <tr>\n",
       "            <td>A7</td>\n",
       "            <td>2</td>\n",
       "        </tr>\n",
       "        <tr>\n",
       "            <td>OO</td>\n",
       "            <td>2</td>\n",
       "        </tr>\n",
       "        <tr>\n",
       "            <td>EV</td>\n",
       "            <td>3</td>\n",
       "        </tr>\n",
       "        <tr>\n",
       "            <td>N5</td>\n",
       "            <td>3</td>\n",
       "        </tr>\n",
       "    </tbody>\n",
       "</table>"
      ],
      "text/plain": [
       "[('E9', 1), ('A7', 2), ('OO', 2), ('EV', 3), ('N5', 3)]"
      ]
     },
     "execution_count": 42,
     "metadata": {},
     "output_type": "execute_result"
    }
   ],
   "source": [
    "%%sql\n",
    "\n",
    "SELECT carrier_low, COUNT(carrier_low) FROM airfare\n",
    "WHERE carrier_low IS NOT NULL\n",
    "GROUP BY carrier_low\n",
    "ORDER BY 2 ASC\n",
    "LIMIT 5"
   ]
  },
  {
   "cell_type": "code",
   "execution_count": 43,
   "metadata": {},
   "outputs": [
    {
     "name": "stdout",
     "output_type": "stream",
     "text": [
      " * sqlite:///airfare.db\n",
      "Done.\n"
     ]
    },
    {
     "data": {
      "text/html": [
       "<table>\n",
       "    <thead>\n",
       "        <tr>\n",
       "            <th>carrier_lg</th>\n",
       "            <th>COUNT(carrier_lg)</th>\n",
       "        </tr>\n",
       "    </thead>\n",
       "    <tbody>\n",
       "        <tr>\n",
       "            <td>WN</td>\n",
       "            <td>23659</td>\n",
       "        </tr>\n",
       "        <tr>\n",
       "            <td>DL</td>\n",
       "            <td>15789</td>\n",
       "        </tr>\n",
       "    </tbody>\n",
       "</table>"
      ],
      "text/plain": [
       "[('WN', 23659), ('DL', 15789)]"
      ]
     },
     "execution_count": 43,
     "metadata": {},
     "output_type": "execute_result"
    }
   ],
   "source": [
    "%%sql\n",
    "\n",
    "SELECT carrier_lg, COUNT(carrier_lg) FROM airfare\n",
    "WHERE carrier_lg IS NOT NULL\n",
    "GROUP BY carrier_lg\n",
    "ORDER BY 2 DESC\n",
    "LIMIT 2"
   ]
  },
  {
   "cell_type": "markdown",
   "metadata": {},
   "source": [
    "5. How many instances are there where the carrier with the largest market share is not the carrier with the lowest fare? What is the average difference in fare?"
   ]
  },
  {
   "cell_type": "code",
   "execution_count": 48,
   "metadata": {},
   "outputs": [
    {
     "name": "stdout",
     "output_type": "stream",
     "text": [
      " * sqlite:///airfare.db\n",
      "Done.\n"
     ]
    },
    {
     "data": {
      "text/html": [
       "<table>\n",
       "    <thead>\n",
       "        <tr>\n",
       "            <th>Routes</th>\n",
       "        </tr>\n",
       "    </thead>\n",
       "    <tbody>\n",
       "        <tr>\n",
       "            <td>59851</td>\n",
       "        </tr>\n",
       "    </tbody>\n",
       "</table>"
      ],
      "text/plain": [
       "[(59851,)]"
      ]
     },
     "execution_count": 48,
     "metadata": {},
     "output_type": "execute_result"
    }
   ],
   "source": [
    "%%sql\n",
    "\n",
    "SELECT COUNT(*) AS 'Routes' FROM airfare\n",
    "WHERE carrier_lg != carrier_low"
   ]
  },
  {
   "cell_type": "code",
   "execution_count": 51,
   "metadata": {},
   "outputs": [
    {
     "name": "stdout",
     "output_type": "stream",
     "text": [
      " * sqlite:///airfare.db\n",
      "Done.\n"
     ]
    },
    {
     "data": {
      "text/html": [
       "<table>\n",
       "    <thead>\n",
       "        <tr>\n",
       "            <th>Avg Fare Diff</th>\n",
       "        </tr>\n",
       "    </thead>\n",
       "    <tbody>\n",
       "        <tr>\n",
       "            <td>33.0</td>\n",
       "        </tr>\n",
       "    </tbody>\n",
       "</table>"
      ],
      "text/plain": [
       "[(33.0,)]"
      ]
     },
     "execution_count": 51,
     "metadata": {},
     "output_type": "execute_result"
    }
   ],
   "source": [
    "%%sql\n",
    "\n",
    "SELECT ROUND(AVG(fare_lg - fare_low), 0) AS 'Avg Fare Diff' FROM airfare"
   ]
  },
  {
   "cell_type": "markdown",
   "metadata": {},
   "source": [
    "6. What is the percent change in average fare from 2007 to 2017 by flight? How about from 1997 to 2017? "
   ]
  },
  {
   "cell_type": "code",
   "execution_count": 75,
   "metadata": {},
   "outputs": [
    {
     "name": "stdout",
     "output_type": "stream",
     "text": [
      " * sqlite:///airfare.db\n",
      "Done.\n"
     ]
    },
    {
     "data": {
      "text/html": [
       "<table>\n",
       "    <thead>\n",
       "        <tr>\n",
       "            <th>city1</th>\n",
       "            <th>city2</th>\n",
       "            <th>Avg Fare % 97 to 07</th>\n",
       "            <th>Avg Fare % 97 to 17</th>\n",
       "        </tr>\n",
       "    </thead>\n",
       "    <tbody>\n",
       "        <tr>\n",
       "            <td>Albany, NY</td>\n",
       "            <td>Chicago, IL</td>\n",
       "            <td>-33.5</td>\n",
       "            <td>-3.76</td>\n",
       "        </tr>\n",
       "        <tr>\n",
       "            <td>Albany, NY</td>\n",
       "            <td>Los Angeles, CA (Metropolitan Area)</td>\n",
       "            <td>-22.44</td>\n",
       "            <td>1.89</td>\n",
       "        </tr>\n",
       "        <tr>\n",
       "            <td>Albany, NY</td>\n",
       "            <td>Miami, FL (Metropolitan Area)</td>\n",
       "            <td>25.87</td>\n",
       "            <td>12.04</td>\n",
       "        </tr>\n",
       "        <tr>\n",
       "            <td>Albany, NY</td>\n",
       "            <td>Orlando, FL</td>\n",
       "            <td>-0.45</td>\n",
       "            <td>27.5</td>\n",
       "        </tr>\n",
       "        <tr>\n",
       "            <td>Albany, NY</td>\n",
       "            <td>Tampa, FL (Metropolitan Area)</td>\n",
       "            <td>-4.14</td>\n",
       "            <td>39.83</td>\n",
       "        </tr>\n",
       "        <tr>\n",
       "            <td>Albany, NY</td>\n",
       "            <td>Washington, DC (Metropolitan Area)</td>\n",
       "            <td>-40.61</td>\n",
       "            <td>-10.7</td>\n",
       "        </tr>\n",
       "        <tr>\n",
       "            <td>Albuquerque, NM</td>\n",
       "            <td>Atlanta, GA (Metropolitan Area)</td>\n",
       "            <td>46.23</td>\n",
       "            <td>41.82</td>\n",
       "        </tr>\n",
       "        <tr>\n",
       "            <td>Albuquerque, NM</td>\n",
       "            <td>Austin, TX</td>\n",
       "            <td>33.31</td>\n",
       "            <td>53.87</td>\n",
       "        </tr>\n",
       "        <tr>\n",
       "            <td>Albuquerque, NM</td>\n",
       "            <td>Boston, MA (Metropolitan Area)</td>\n",
       "            <td>10.91</td>\n",
       "            <td>21.26</td>\n",
       "        </tr>\n",
       "        <tr>\n",
       "            <td>Albuquerque, NM</td>\n",
       "            <td>Chicago, IL</td>\n",
       "            <td>19.14</td>\n",
       "            <td>53.65</td>\n",
       "        </tr>\n",
       "    </tbody>\n",
       "</table>"
      ],
      "text/plain": [
       "[('Albany, NY', 'Chicago, IL', -33.5, -3.76),\n",
       " ('Albany, NY', 'Los Angeles, CA (Metropolitan Area)', -22.44, 1.89),\n",
       " ('Albany, NY', 'Miami, FL (Metropolitan Area)', 25.87, 12.04),\n",
       " ('Albany, NY', 'Orlando, FL', -0.45, 27.5),\n",
       " ('Albany, NY', 'Tampa, FL (Metropolitan Area)', -4.14, 39.83),\n",
       " ('Albany, NY', 'Washington, DC (Metropolitan Area)', -40.61, -10.7),\n",
       " ('Albuquerque, NM', 'Atlanta, GA (Metropolitan Area)', 46.23, 41.82),\n",
       " ('Albuquerque, NM', 'Austin, TX', 33.31, 53.87),\n",
       " ('Albuquerque, NM', 'Boston, MA (Metropolitan Area)', 10.91, 21.26),\n",
       " ('Albuquerque, NM', 'Chicago, IL', 19.14, 53.65)]"
      ]
     },
     "execution_count": 75,
     "metadata": {},
     "output_type": "execute_result"
    }
   ],
   "source": [
    "%%sql\n",
    "\n",
    "WITH\n",
    "fare1997 AS (SELECT year, city1, city2, AVG(fare) AS 'avgf' FROM airfare GROUP BY year, city1, city2 HAVING year = 1997),\n",
    "fare2007 AS (SELECT city1, city2, AVG(fare) AS 'avgf' FROM airfare GROUP BY year, city1, city2 HAVING year = 2007),\n",
    "fare2017 AS (SELECT city1, city2, AVG(fare) AS 'avgf' FROM airfare GROUP BY year, city1, city2 HAVING year = 2017),\n",
    "q97_07  AS (SELECT fare1997.year, fare1997.city1, fare1997.city2, fare1997.avgf AS 'F97', fare2007.avgf AS 'F07' FROM fare1997 JOIN fare2007 ON fare1997.city1 = fare2007.city1 AND fare1997.city2 = fare2007.city2),\n",
    "q97_07_17 AS (SELECT q97_07.year, q97_07.city1, q97_07.city2, q97_07.F97 AS 'F97', q97_07.F07 AS 'F07', fare2017.avgf AS 'F17' FROM q97_07 JOIN fare2017 ON q97_07.city1 = fare2017.city1 AND q97_07.city2 = fare2017.city2)\n",
    "SELECT city1, city2, \n",
    "ROUND((f07 - f97)/ f97 * 100, 2) AS 'Avg Fare % 97 to 07',\n",
    "ROUND((f17 - f97)/ f97 * 100, 2) AS 'Avg Fare % 97 to 17'\n",
    "FROM q97_07_17\n",
    "LIMIT 10\n"
   ]
  }
 ],
 "metadata": {
  "kernelspec": {
   "display_name": "sql-challenges-FjXI4naY-py3.10",
   "language": "python",
   "name": "python3"
  },
  "language_info": {
   "codemirror_mode": {
    "name": "ipython",
    "version": 3
   },
   "file_extension": ".py",
   "mimetype": "text/x-python",
   "name": "python",
   "nbconvert_exporter": "python",
   "pygments_lexer": "ipython3",
   "version": "3.10.12"
  }
 },
 "nbformat": 4,
 "nbformat_minor": 2
}
