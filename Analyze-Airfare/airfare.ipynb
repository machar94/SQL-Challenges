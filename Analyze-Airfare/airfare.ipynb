{
 "cells": [
  {
   "cell_type": "markdown",
   "metadata": {},
   "source": [
    "# Overview\n",
    "\n",
    "This project looks at airfare data covering the top 1,000 contiguous state city-pair markets. The challenge and dataset can be found [here](https://discuss.codecademy.com/t/data-science-independent-project-5-analyze-airfare-data/419949/1)."
   ]
  },
  {
   "cell_type": "markdown",
   "metadata": {},
   "source": [
    "# Dataset\n",
    "\n",
    "To download the dataset for this project, uncomment and run the next cell. Note it requires `wget`."
   ]
  },
  {
   "cell_type": "code",
   "execution_count": 1,
   "metadata": {},
   "outputs": [
    {
     "name": "stdout",
     "output_type": "stream",
     "text": [
      "--2023-11-02 21:08:51--  https://static-assets.codecademy.com/community/datasets_forum_projects/airfare_data.csv\n",
      "Resolving static-assets.codecademy.com (static-assets.codecademy.com)... 2606:4700::6811:d451, 2606:4700::6812:c73f, 104.17.212.81, ...\n",
      "Connecting to static-assets.codecademy.com (static-assets.codecademy.com)|2606:4700::6811:d451|:443... connected.\n",
      "HTTP request sent, awaiting response... 200 OK\n",
      "Length: 18217054 (17M) [text/csv]\n",
      "Saving to: ‘airfare_data.csv’\n",
      "\n",
      "airfare_data.csv    100%[===================>]  17.37M  18.3MB/s    in 0.9s    \n",
      "\n",
      "2023-11-02 21:08:53 (18.3 MB/s) - ‘airfare_data.csv’ saved [18217054/18217054]\n",
      "\n"
     ]
    }
   ],
   "source": [
    "!wget -O airfare_data.csv https://static-assets.codecademy.com/community/datasets_forum_projects/airfare_data.csv"
   ]
  },
  {
   "cell_type": "code",
   "execution_count": 1,
   "metadata": {},
   "outputs": [
    {
     "data": {
      "text/html": [
       "<div>\n",
       "<style scoped>\n",
       "    .dataframe tbody tr th:only-of-type {\n",
       "        vertical-align: middle;\n",
       "    }\n",
       "\n",
       "    .dataframe tbody tr th {\n",
       "        vertical-align: top;\n",
       "    }\n",
       "\n",
       "    .dataframe thead th {\n",
       "        text-align: right;\n",
       "    }\n",
       "</style>\n",
       "<table border=\"1\" class=\"dataframe\">\n",
       "  <thead>\n",
       "    <tr style=\"text-align: right;\">\n",
       "      <th></th>\n",
       "      <th>Year</th>\n",
       "      <th>quarter</th>\n",
       "      <th>citymarketid_1</th>\n",
       "      <th>citymarketid_2</th>\n",
       "      <th>city1</th>\n",
       "      <th>city2</th>\n",
       "      <th>nsmiles</th>\n",
       "      <th>passengers</th>\n",
       "      <th>fare</th>\n",
       "      <th>carrier_lg</th>\n",
       "      <th>large_ms</th>\n",
       "      <th>fare_lg</th>\n",
       "      <th>carrier_low</th>\n",
       "      <th>lf_ms</th>\n",
       "      <th>fare_low</th>\n",
       "      <th>table_1_flag</th>\n",
       "      <th>Geocoded_City1</th>\n",
       "      <th>Geocoded_City2</th>\n",
       "    </tr>\n",
       "  </thead>\n",
       "  <tbody>\n",
       "    <tr>\n",
       "      <th>0</th>\n",
       "      <td>2009</td>\n",
       "      <td>2</td>\n",
       "      <td>32467</td>\n",
       "      <td>34576</td>\n",
       "      <td>Miami, FL (Metropolitan Area)</td>\n",
       "      <td>Rochester, NY</td>\n",
       "      <td>1204</td>\n",
       "      <td>203</td>\n",
       "      <td>151.46</td>\n",
       "      <td>FL</td>\n",
       "      <td>0.29</td>\n",
       "      <td>131.05</td>\n",
       "      <td>FL</td>\n",
       "      <td>0.29</td>\n",
       "      <td>131.05</td>\n",
       "      <td>1</td>\n",
       "      <td>Miami, FL (Metropolitan Area)\\n(44.977479, -93...</td>\n",
       "      <td>Rochester, NY\\n(43.155708, -77.612547)</td>\n",
       "    </tr>\n",
       "  </tbody>\n",
       "</table>\n",
       "</div>"
      ],
      "text/plain": [
       "   Year  quarter  citymarketid_1  citymarketid_2  \\\n",
       "0  2009        2           32467           34576   \n",
       "\n",
       "                           city1          city2  nsmiles  passengers    fare  \\\n",
       "0  Miami, FL (Metropolitan Area)  Rochester, NY     1204         203  151.46   \n",
       "\n",
       "  carrier_lg  large_ms  fare_lg carrier_low  lf_ms  fare_low  table_1_flag  \\\n",
       "0         FL      0.29   131.05          FL   0.29    131.05             1   \n",
       "\n",
       "                                      Geocoded_City1  \\\n",
       "0  Miami, FL (Metropolitan Area)\\n(44.977479, -93...   \n",
       "\n",
       "                           Geocoded_City2  \n",
       "0  Rochester, NY\\n(43.155708, -77.612547)  "
      ]
     },
     "execution_count": 1,
     "metadata": {},
     "output_type": "execute_result"
    }
   ],
   "source": [
    "import pandas as pd\n",
    "import sqlite3\n",
    "\n",
    "data = pd.read_csv('airfare_data.csv')\n",
    "data.head(1)"
   ]
  },
  {
   "cell_type": "code",
   "execution_count": 3,
   "metadata": {},
   "outputs": [
    {
     "data": {
      "text/plain": [
       "<sqlite3.Cursor at 0x7fec6faa88c0>"
      ]
     },
     "execution_count": 3,
     "metadata": {},
     "output_type": "execute_result"
    }
   ],
   "source": [
    "\n",
    "conn = sqlite3.connect(\"airfare.db\")\n",
    "cur = conn.cursor()\n",
    "\n",
    "cur.execute('''CREATE TABLE airfare (\n",
    "            year INT\n",
    "            quarter INT\n",
    "            citymarketid_1 INT\n",
    "            citymarketid_2 INT\n",
    "            city1 TEXT\n",
    "            city2 TEXT\n",
    "            nsmiles INT\n",
    "            passengers INT\n",
    "            fare REAL\n",
    "            carrier_lg TEXT\n",
    "            large_ms REAL\n",
    "            fare_lg REAL\n",
    "            carrier_low TEXT\n",
    "            lf_ms REAL\n",
    "            fare_low REAL\n",
    "            table_1_flag_INT\n",
    "            geocoded_city1 TEXT\n",
    "            geocoded_city2 TEXT)''')"
   ]
  },
  {
   "cell_type": "code",
   "execution_count": 4,
   "metadata": {},
   "outputs": [
    {
     "data": {
      "text/plain": [
       "90021"
      ]
     },
     "execution_count": 4,
     "metadata": {},
     "output_type": "execute_result"
    }
   ],
   "source": [
    "data.to_sql('airfare', conn, if_exists='replace', index=False)"
   ]
  },
  {
   "cell_type": "markdown",
   "metadata": {},
   "source": [
    "## Exploration"
   ]
  },
  {
   "cell_type": "code",
   "execution_count": 4,
   "metadata": {},
   "outputs": [],
   "source": [
    "# Load the sql module to iPython\n",
    "\n",
    "%load_ext sql"
   ]
  },
  {
   "cell_type": "code",
   "execution_count": 5,
   "metadata": {},
   "outputs": [],
   "source": [
    "%sql sqlite:///airfare.db"
   ]
  },
  {
   "cell_type": "code",
   "execution_count": 6,
   "metadata": {},
   "outputs": [
    {
     "name": "stdout",
     "output_type": "stream",
     "text": [
      " * sqlite:///airfare.db\n",
      "Done.\n"
     ]
    },
    {
     "data": {
      "text/html": [
       "<table>\n",
       "    <thead>\n",
       "        <tr>\n",
       "            <th>Year</th>\n",
       "            <th>quarter</th>\n",
       "            <th>citymarketid_1</th>\n",
       "            <th>citymarketid_2</th>\n",
       "            <th>city1</th>\n",
       "            <th>city2</th>\n",
       "            <th>nsmiles</th>\n",
       "            <th>passengers</th>\n",
       "            <th>fare</th>\n",
       "            <th>carrier_lg</th>\n",
       "            <th>large_ms</th>\n",
       "            <th>fare_lg</th>\n",
       "            <th>carrier_low</th>\n",
       "            <th>lf_ms</th>\n",
       "            <th>fare_low</th>\n",
       "            <th>table_1_flag</th>\n",
       "            <th>Geocoded_City1</th>\n",
       "            <th>Geocoded_City2</th>\n",
       "        </tr>\n",
       "    </thead>\n",
       "    <tbody>\n",
       "        <tr>\n",
       "            <td>2009</td>\n",
       "            <td>2</td>\n",
       "            <td>32467</td>\n",
       "            <td>34576</td>\n",
       "            <td>Miami, FL (Metropolitan Area)</td>\n",
       "            <td>Rochester, NY</td>\n",
       "            <td>1204</td>\n",
       "            <td>203</td>\n",
       "            <td>151.46</td>\n",
       "            <td>FL</td>\n",
       "            <td>0.29</td>\n",
       "            <td>131.05</td>\n",
       "            <td>FL</td>\n",
       "            <td>0.29</td>\n",
       "            <td>131.05</td>\n",
       "            <td>1</td>\n",
       "            <td>Miami, FL (Metropolitan Area)<br>(44.977479, -93.264346)</td>\n",
       "            <td>Rochester, NY<br>(43.155708, -77.612547)</td>\n",
       "        </tr>\n",
       "        <tr>\n",
       "            <td>2000</td>\n",
       "            <td>4</td>\n",
       "            <td>30397</td>\n",
       "            <td>33198</td>\n",
       "            <td>Atlanta, GA (Metropolitan Area)</td>\n",
       "            <td>Kansas City, MO</td>\n",
       "            <td>692</td>\n",
       "            <td>782</td>\n",
       "            <td>172.83</td>\n",
       "            <td>DL</td>\n",
       "            <td>0.63</td>\n",
       "            <td>194.71</td>\n",
       "            <td>NJ</td>\n",
       "            <td>0.26</td>\n",
       "            <td>126.88</td>\n",
       "            <td>1</td>\n",
       "            <td>Atlanta, GA (Metropolitan Area)<br>(33.748547, -84.391502)</td>\n",
       "            <td>Kansas City, MO<br>(39.099792, -94.578559)</td>\n",
       "        </tr>\n",
       "        <tr>\n",
       "            <td>2007</td>\n",
       "            <td>4</td>\n",
       "            <td>32575</td>\n",
       "            <td>34614</td>\n",
       "            <td>Los Angeles, CA (Metropolitan Area)</td>\n",
       "            <td>Salt Lake City, UT</td>\n",
       "            <td>590</td>\n",
       "            <td>3122</td>\n",
       "            <td>135.24</td>\n",
       "            <td>DL</td>\n",
       "            <td>0.51</td>\n",
       "            <td>144.28</td>\n",
       "            <td>B6</td>\n",
       "            <td>0.15</td>\n",
       "            <td>111.68</td>\n",
       "            <td>1</td>\n",
       "            <td>Los Angeles, CA (Metropolitan Area)<br>(34.052238, -118.243344)</td>\n",
       "            <td>Salt Lake City, UT<br>(40.758478, -111.888142)</td>\n",
       "        </tr>\n",
       "        <tr>\n",
       "            <td>2004</td>\n",
       "            <td>4</td>\n",
       "            <td>32337</td>\n",
       "            <td>31650</td>\n",
       "            <td>Indianapolis, IN</td>\n",
       "            <td>Minneapolis/St. Paul, MN</td>\n",
       "            <td>503</td>\n",
       "            <td>395</td>\n",
       "            <td>206.78</td>\n",
       "            <td>NW</td>\n",
       "            <td>0.74</td>\n",
       "            <td>224.77</td>\n",
       "            <td>TZ</td>\n",
       "            <td>0.11</td>\n",
       "            <td>156.74</td>\n",
       "            <td>1</td>\n",
       "            <td>Indianapolis, IN<br>(39.76845, -86.156212)</td>\n",
       "            <td>Minneapolis/St. Paul, MN<br>(44.977479, -93.264346)</td>\n",
       "        </tr>\n",
       "        <tr>\n",
       "            <td>2008</td>\n",
       "            <td>4</td>\n",
       "            <td>30194</td>\n",
       "            <td>30559</td>\n",
       "            <td>Dallas/Fort Worth, TX</td>\n",
       "            <td>Seattle, WA</td>\n",
       "            <td>1670</td>\n",
       "            <td>957</td>\n",
       "            <td>242.74</td>\n",
       "            <td>AA</td>\n",
       "            <td>0.47</td>\n",
       "            <td>262.43</td>\n",
       "            <td>AS</td>\n",
       "            <td>0.27</td>\n",
       "            <td>218.9</td>\n",
       "            <td>1</td>\n",
       "            <td>Dallas/Fort Worth, TX<br>(40.11086, -77.035636)</td>\n",
       "            <td>Seattle, WA<br>(47.603229, -122.33028)</td>\n",
       "        </tr>\n",
       "    </tbody>\n",
       "</table>"
      ],
      "text/plain": [
       "[(2009, 2, 32467, 34576, 'Miami, FL (Metropolitan Area)', 'Rochester, NY', 1204, 203, 151.46, 'FL', 0.29, 131.05, 'FL', 0.29, 131.05, 1, 'Miami, FL (Metropolitan Area)\\n(44.977479, -93.264346)', 'Rochester, NY\\n(43.155708, -77.612547)'),\n",
       " (2000, 4, 30397, 33198, 'Atlanta, GA (Metropolitan Area)', 'Kansas City, MO', 692, 782, 172.83, 'DL', 0.63, 194.71, 'NJ', 0.26, 126.88, 1, 'Atlanta, GA (Metropolitan Area)\\n(33.748547, -84.391502)', 'Kansas City, MO\\n(39.099792, -94.578559)'),\n",
       " (2007, 4, 32575, 34614, 'Los Angeles, CA (Metropolitan Area)', 'Salt Lake City, UT', 590, 3122, 135.24, 'DL', 0.51, 144.28, 'B6', 0.15, 111.68, 1, 'Los Angeles, CA (Metropolitan Area)\\n(34.052238, -118.243344)', 'Salt Lake City, UT\\n(40.758478, -111.888142)'),\n",
       " (2004, 4, 32337, 31650, 'Indianapolis, IN', 'Minneapolis/St. Paul, MN', 503, 395, 206.78, 'NW', 0.74, 224.77, 'TZ', 0.11, 156.74, 1, 'Indianapolis, IN\\n(39.76845, -86.156212)', 'Minneapolis/St. Paul, MN\\n(44.977479, -93.264346)'),\n",
       " (2008, 4, 30194, 30559, 'Dallas/Fort Worth, TX', 'Seattle, WA', 1670, 957, 242.74, 'AA', 0.47, 262.43, 'AS', 0.27, 218.9, 1, 'Dallas/Fort Worth, TX\\n(40.11086, -77.035636)', 'Seattle, WA\\n(47.603229, -122.33028)')]"
      ]
     },
     "execution_count": 6,
     "metadata": {},
     "output_type": "execute_result"
    }
   ],
   "source": [
    "%%sql\n",
    "\n",
    "SELECT * FROM airfare\n",
    "LIMIT 5"
   ]
  },
  {
   "cell_type": "code",
   "execution_count": null,
   "metadata": {},
   "outputs": [],
   "source": []
  }
 ],
 "metadata": {
  "kernelspec": {
   "display_name": "sql-challenges-FjXI4naY-py3.10",
   "language": "python",
   "name": "python3"
  },
  "language_info": {
   "codemirror_mode": {
    "name": "ipython",
    "version": 3
   },
   "file_extension": ".py",
   "mimetype": "text/x-python",
   "name": "python",
   "nbconvert_exporter": "python",
   "pygments_lexer": "ipython3",
   "version": "3.10.12"
  }
 },
 "nbformat": 4,
 "nbformat_minor": 2
}
