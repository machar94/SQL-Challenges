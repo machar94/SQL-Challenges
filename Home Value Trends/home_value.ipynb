{
 "cells": [
  {
   "cell_type": "markdown",
   "metadata": {},
   "source": [
    "## Dataset\n",
    "\n",
    "To download the dataset for this project, uncomment and run the next cell. Note it requires `wget`."
   ]
  },
  {
   "cell_type": "code",
   "execution_count": null,
   "metadata": {},
   "outputs": [],
   "source": [
    "!wget -O home_value_data.csv https://static-assets.codecademy.com/community/datasets_forum_projects/home_value_data.csv?_gl=1*e7jqre*_ga*ODUyNDAwMzMyMC4xNjk4NDk1NzIw*_ga_3LRZM6TM9L*MTY5ODc5ODEzMS43LjAuMTY5ODc5ODEzMS42MC4wLjA."
   ]
  },
  {
   "cell_type": "code",
   "execution_count": null,
   "metadata": {},
   "outputs": [],
   "source": [
    "import sqlite3\n",
    "\n",
    "conn = sqlite3.connect(\"home_value.db\")\n",
    "cur = conn.cursor()\n",
    "\n",
    "cur.execute('''CREATE TABLE home_value (\n",
    "            zip_code INT, \\\n",
    "            city TEXT,\n",
    "            state TEXT,\n",
    "            metro TEXT,\n",
    "            county TEXT,\n",
    "            date DATE,\n",
    "            value REAL)''')"
   ]
  },
  {
   "cell_type": "code",
   "execution_count": null,
   "metadata": {},
   "outputs": [],
   "source": [
    "import pandas as pd\n",
    "\n",
    "data = pd.read_csv('home_value_data.csv')\n",
    "data.to_sql('home_value', conn, if_exists='append', index=False)"
   ]
  },
  {
   "cell_type": "code",
   "execution_count": null,
   "metadata": {},
   "outputs": [],
   "source": [
    "# Load the sql module to iPython\n",
    "\n",
    "%load_ext sql"
   ]
  },
  {
   "cell_type": "code",
   "execution_count": null,
   "metadata": {},
   "outputs": [],
   "source": [
    "%sql sqlite:///home_value.db"
   ]
  },
  {
   "cell_type": "code",
   "execution_count": null,
   "metadata": {},
   "outputs": [],
   "source": [
    "%%sql\n",
    "\n",
    "SELECT count(*)\n",
    "FROM home_value"
   ]
  }
 ],
 "metadata": {
  "kernelspec": {
   "display_name": "sql-challenges-FjXI4naY-py3.10",
   "language": "python",
   "name": "python3"
  },
  "language_info": {
   "codemirror_mode": {
    "name": "ipython",
    "version": 3
   },
   "file_extension": ".py",
   "mimetype": "text/x-python",
   "name": "python",
   "nbconvert_exporter": "python",
   "pygments_lexer": "ipython3",
   "version": "3.10.12"
  }
 },
 "nbformat": 4,
 "nbformat_minor": 2
}
